{
 "cells": [
  {
   "cell_type": "code",
   "execution_count": 1,
   "metadata": {},
   "outputs": [],
   "source": [
    "from attention import AttentionLayer"
   ]
  },
  {
   "cell_type": "code",
   "execution_count": 48,
   "metadata": {},
   "outputs": [],
   "source": [
    "import numpy as np  \n",
    "import pandas as pd \n",
    "import re           \n",
    "#from bs4 import BeautifulSoup \n",
    "from keras.preprocessing.text import Tokenizer \n",
    "from keras.preprocessing.sequence import pad_sequences\n",
    "from nltk.corpus import stopwords   \n",
    "from tensorflow.keras.layers import Input, LSTM, Embedding, Dense, Concatenate, TimeDistributed, Bidirectional\n",
    "from tensorflow.keras.models import Model\n",
    "from tensorflow.keras.callbacks import EarlyStopping\n",
    "import warnings\n",
    "pd.set_option(\"display.max_colwidth\", 200)\n",
    "warnings.filterwarnings(\"ignore\")"
   ]
  },
  {
   "cell_type": "code",
   "execution_count": 98,
   "metadata": {},
   "outputs": [],
   "source": [
    "data=pd.read_excel(\"syntheses v2.xlsx\")"
   ]
  },
  {
   "cell_type": "code",
   "execution_count": 99,
   "metadata": {},
   "outputs": [],
   "source": [
    "#data.drop_duplicates(subset=['Text'],inplace=True)  #dropping duplicates\n",
    "data.dropna(axis=0,inplace=True)   #dropping na"
   ]
  },
  {
   "cell_type": "code",
   "execution_count": 102,
   "metadata": {},
   "outputs": [
    {
     "data": {
      "text/plain": [
       "0     1.2.2019                 FR                              Journal officiel de l'Union européenne                                           C 39/1\\n                                                 ...\n",
       "1     15.3.2019              FR                          Journal officiel de l'Union européenne                                              L 73/93\\n                                           RÈGLEMEN...\n",
       "2     15.3.2019              FR                          Journal officiel de l'Union européenne                                              L 73/93\\n                                           RÈGLEMEN...\n",
       "3     15.3.2019              FR                          Journal officiel de l'Union européenne                                              L 73/93\\n                                           RÈGLEMEN...\n",
       "4     27 mars 2019                         JOURNAL OFFICIEL DE LA RÉPUBLIQUE FRANÇAISE                                                                       Texte 146 sur 168\\n                         ...\n",
       "5     L 73/20                FR                           Journal officiel de l'Union européenne                                        15.3.2019\\n                                  RÈGLEMENT D'EXÉCUTIO...\n",
       "6     L 73/20                FR                           Journal officiel de l'Union européenne                                        15.3.2019\\n                                  RÈGLEMENT D'EXÉCUTIO...\n",
       "7     L 73/20                FR                           Journal officiel de l'Union européenne                                        15.3.2019\\n                                  RÈGLEMENT D'EXÉCUTIO...\n",
       "8     L 73/20                FR                           Journal officiel de l'Union européenne                                        15.3.2019\\n                                  RÈGLEMENT D'EXÉCUTIO...\n",
       "9     L 73/20                FR                           Journal officiel de l'Union européenne                                        15.3.2019\\n                                  RÈGLEMENT D'EXÉCUTIO...\n",
       "Name: contents, dtype: object"
      ]
     },
     "execution_count": 102,
     "metadata": {},
     "output_type": "execute_result"
    }
   ],
   "source": [
    "data['contents'][:10]"
   ]
  },
  {
   "cell_type": "code",
   "execution_count": 103,
   "metadata": {},
   "outputs": [],
   "source": [
    "stop_words = set(stopwords.words('french')) \n",
    "def text_cleaner(text):\n",
    "    newString = text.lower()\n",
    "    #newString = BeautifulSoup(newString, features=\"html5lib\").text\n",
    "    newString = re.sub(r'\\([^)]*\\)', '', newString)\n",
    "    newString = re.sub('\"','', newString)\n",
    "    #newString = ' '.join([contraction_mapping[t] if t in contraction_mapping else t for t in newString.split(\" \")])    \n",
    "    newString = re.sub(r\"'s\\b\",\"\",newString)\n",
    "    newString = re.sub(\"[^a-zA-Z]\", \" \", newString) \n",
    "    tokens = [w for w in newString.split() if not w in stop_words]\n",
    "    long_words=[]\n",
    "    for i in tokens:\n",
    "        if len(i)>=3:                  #removing short word\n",
    "            long_words.append(i)   \n",
    "    return (\" \".join(long_words)).strip()\n",
    "\n",
    "cleaned_text = []\n",
    "for t in data['contents']:\n",
    "    cleaned_text.append(text_cleaner(t))"
   ]
  },
  {
   "cell_type": "code",
   "execution_count": 54,
   "metadata": {},
   "outputs": [
    {
     "data": {
      "text/plain": [
       "0                            Good Quality Dog Food\n",
       "1                                Not as Advertised\n",
       "2                            \"Delight\" says it all\n",
       "3                                   Cough Medicine\n",
       "4                                      Great taffy\n",
       "5                                       Nice Taffy\n",
       "6    Great!  Just as good as the expensive brands!\n",
       "7                           Wonderful, tasty taffy\n",
       "8                                       Yay Barley\n",
       "9                                 Healthy Dog Food\n",
       "Name: Summary, dtype: object"
      ]
     },
     "execution_count": 54,
     "metadata": {},
     "output_type": "execute_result"
    }
   ],
   "source": [
    "data['Summary'][:10]"
   ]
  },
  {
   "cell_type": "code",
   "execution_count": 104,
   "metadata": {},
   "outputs": [],
   "source": [
    "def summary_cleaner(text):\n",
    "    newString = re.sub('\"','', text)\n",
    "    #newString = ' '.join([contraction_mapping[t] if t in contraction_mapping else t for t in newString.split(\" \")])    \n",
    "    newString = re.sub(r\"'s\\b\",\"\",newString)\n",
    "    newString = re.sub(\"[^a-zA-Z]\", \" \", newString)\n",
    "    newString = newString.lower()\n",
    "    tokens=newString.split()\n",
    "    newString=''\n",
    "    for i in tokens:\n",
    "        if len(i)>1:                                 \n",
    "            newString=newString+i+' '  \n",
    "    return newString\n",
    "\n",
    "#Call the above function\n",
    "cleaned_summary = []\n",
    "for t in data['Text Summarization']:\n",
    "    cleaned_summary.append(summary_cleaner(t))\n",
    "\n",
    "data['cleaned_text']=cleaned_text\n",
    "data['cleaned_summary']=cleaned_summary\n",
    "data['cleaned_summary'].replace('', np.nan, inplace=True)\n",
    "data.dropna(axis=0,inplace=True)"
   ]
  },
  {
   "cell_type": "code",
   "execution_count": 105,
   "metadata": {},
   "outputs": [],
   "source": [
    "data['cleaned_summary'] = data['cleaned_summary'].apply(lambda x : '_START_ '+ x + ' _END_')"
   ]
  },
  {
   "cell_type": "code",
   "execution_count": 106,
   "metadata": {},
   "outputs": [
    {
     "name": "stdout",
     "output_type": "stream",
     "text": [
      "Review: journal officiel union europ enne recommandations comit europ risque syst mique recommandation comit europ risque syst mique cembre modifiant recommandation cers valuation effets transfrontaliers ciprocit volontaire mesures politique macroprudentielle conseil ral comit europ risque syst mique trait fonctionnement union europ enne glement parlement europ conseil novembre relatif surveillance macroprudentielle syst financier union europ enne instituant comit europ risque syst mique notamment article ainsi articles glement parlement europ conseil juin concernant exigences prudentielles applicables tablissements dit entreprises investissement modifiant glement notamment article paragraphe cision cers comit europ risque syst mique janvier portant adoption gle ment int rieur comit europ risque syst mique notamment articles consid rant suit afin garantir efficacit coh rence mesures nationales politique macroprudentielle convient compl ter reconnaissance obligatoire impos droit union ciprocit volontaire cadre relatif application ciproque mesures politique macroprudentielle sent recomman dation cers comit europ risque syst mique vise garantir ensemble exi gences macroprudentielles applique type exposition risque tat membre donn ind pen damment statut juridique situation ographique prestataire services financiers recommandation cers comit europ risque syst mique recommande autorit activa tion concern proposer lorsqu sente demande ciprocit comit europ risque syst mique seuil importance maximum duquel exposition risque macroprudentiel identifi prestataire services financiers donn territoire mesure politique macroprudentielle appli autorit activation peut tre consid comme tant importante cers peut recommander seuil diff rent estime cessaire recommandation cers comit europ risque syst mique cembre valuation effets transfron taliers ciprocit volontaire mesures politique macroprudentielle recommandation cers comit europ risque syst mique octobre modifiant recommandation cers valuation effets transfrontaliers ciprocit volontaire mesures politique macroprudentielle journal officiel union europ enne gle rale conform ment article paragraphe glement attendu autorit activation coop autorit concern appliquant mesure ciprocit afin garantir mise uvre efficiente efficace cette mesure depuis juillet tablissements importance syst mique mondiale autres tablissements importance syst mique fran ais trouvant plus haut niveau consolidation rim tre surveillance prudentielle bancaire soumis vertu article paragraphe point glement limite grands risques leurs fonds propres ligibles gard grandes entreprises non financi res endett social france suite demande sent haut conseil stabilit financi cers vertu article paragraphe glement afin viter concr tisation effets transfrontaliers tifs sous forme fuites arbitrages glementaires pourraient sulter mise uvre mesure politique macroprudentielle appliqu france conform ment article paragraphe point glement indiquer autres acteurs march risques syst miques associ augmentation levier grandes entreprises non financi res social france iii accro tre silience tablissements importance syst mique autres tats membres conseil ral cers cid inclure cette mesure liste mesures politique macroprudentielle dont application ciproque recommand vertu recommandation cers tant donn mesure activ haut conseil stabilit financi applique uniquement plus haut niveau consolidation conform ment principe cis recommandation paragraphe recom mandation cers selon laquelle recommand autorit concern mettre uvre mesure politique macroprudentielle identique mesure mise uvre autorit activation devrait tre galement possible appliquer mesure ciprocit niveau consolidation outre applica tion seuil importance niveau individuel pourrait entra ner exemption tablissements concen niveau consolid grands risques gard entreprises non financi res endett social france ant ainsi incitation recourir arbitrage glementaire cons quent convient seuil importance recommand appliqu cas exceptionnel base consolid convient donc modifier recommandation cers cons quence adopt sente recommandation modifications recommandation cers modifi comme suit section recommandation paragraphe remplac texte suivant recommand autorit concern appliquer ciprocit mesures politique macropruden tielle adopt autres autorit concern dont cers recommande application ciproque applica tion ciproque mesures suivantes crites plus tails annexe recommand estonie taux coussin risque syst mique appliqu conform ment article directive expositions nationales ensemble tablissements dit agr estonie finlande pond ration moyenne risque minimale hypoth caires particuliers garantis bien immobilier sidentiel situ finlande appliqu conform ment article paragraphe point glement tablissements dit agr finlande appliquant approche fond notations internes calculer exigences fonds propres glementaires belgique majoration pond ration risque appliqu expositions client tail garanties bien immobilier sidentiel situ belgique appliqu conform ment article paragraphe point glement tablissements dit agr belgique appliquant approche fond notations internes calculer exigences fonds propres glementaires compos majoration forfaitaire cinq points pourcentage pond ration risque journal officiel union europ enne majoration proportionn pond ration risque consistant moyenne pond fonction expositions pond rations risque appliqu portefeuille expositions clien garanties bien immobilier sidentiel situ belgique france durcissement limite grands risques vue article paragraphe glement applique expositions gard grandes entreprises non financi res endett social france fix fonds propres ligibles appliqu conform ment article paragraphe point glement tablissements importance syst mique mondiale autres tablissements importance syst mique plus haut niveau consolidation rim tre surveillance prudentielle bancaire annexe remplac annexe jointe sente recommandation fait francfort main cembre francesco mazzaferro chef secr tariat cers nom conseil ral cers journal officiel union europ enne annexe annexe recommandation cers remplac texte suivant annexe estonie taux coussin risque syst mique appliqu conform ment article directive expositions nationales ensemble tablissements dit agr estonie description mesure mesure estonienne consiste taux coussin risque syst mique appliqu conform ment article directive expositions nationales ensemble tablissements dit agr estonie application ciproque lorsque tats membres mis uvre article directive droit national recommand autorit concern appliquer mesure estonienne ciprocit expositions situ estonie tablissements agr niveau national conform ment article paragraphe directive fins sent paragraphe lai indiqu recommandation paragraphe applicable lorsque tats membres mis uvre article directive droit national recommand autorit comp tentes appliquer mesure estonienne ciprocit expositions situ estonie tablissements agr niveau national conform ment recommandation paragraphe recommand autorit concern adopter mesure quivalente lai six mois finlande pond ration risque moyenne minimale propre tablissements dit hypoth caires particuliers garantis bien immobilier sidentiel situ finlande applicable tablisse ments dit appliquant approche fond notations internes vertu article paragraphe point glement description mesure mesure finlandaise appliqu conform ment article paragraphe point glement consiste pond ration risque moyenne minimale propre tablissements dit niveau portefeuille hypoth caires particuliers garantis bien immobilier siden tiel situ finlande applicable tablissements dit application ciproque conform ment article paragraphe glement recommand autorit concern tats membres concern appliquer ciprocit mesure finlandaise appliquer celle portefeuilles tablissements dit hypoth caires particuliers garantis bien immobilier sidentiel situ finlande mis succursales agr niveau national situ finlande fins sent paragraphe lai indiqu recommandation paragraphe applicable galement recommand autorit concern appliquer ciprocit mesure finlandaise appliquer celle portefeuilles tablissements dit hypoth caires particuliers garantis bien immobilier sidentiel situ finlande mis directement tablissements dit tablis leurs territoires respectifs fins sent paragraphe lai indiqu recommandation paragraphe applicable conform ment recommandation paragraphe recommand autorit concern appliquer apr consultation cers mesure politique macroprudentielle existant territoire dont effet plus proche mesure susmentionn recommand appliquer ciprocit compris adoption mesures pouvoirs surveillance prudentielle vus titre vii chapitre section directive recommand autorit concern adopter mesure quivalente lai quatre mois journal officiel union europ enne iii seuil importance mesure compl seuil importance milliard euros exposition march hypo caires particuliers finlande afin orienter application potentielle principe minimis tats membres appliquant ciprocit conform ment section recommandation cers autorit concern tat membre peuvent exempter individuellement tablissements dit dont portefeuille hypo caires particuliers finlande garantis bien immobilier sidentiel situ finlande inf rieur seuil importance milliard euros cas conseill autorit concern effectuer suivi importance expositions recommand appliquer mesure ciprocit lorsqu tablissement dit passe seuil milliard euros lorsqu autres tats membres concern tablissements dit agr suc cursales finlande fournissant services financiers directement finlande sentent exposi tions milliard euros plus march finlandais dits hypoth caires autorit concern tats membres concern peuvent cider appliquer mesure ciprocit comme voit section recommandation cers cas conseill autorit concern effec tuer suivi importance expositions recommand appliquer mesure ciprocit lorsqu tablissement dit passe seuil milliard euros belgique majoration pond ration risque appliqu expositions client tail garanties bien immobilier sidentiel situ belgique impos tablissements dit agr belgique utilisant approche appliqu conform ment article paragraphe point glement majoration comprend deux ments majoration forfaitaire cinq points pourcentage pond ration risque majoration proportionn pond ration risque consistant moyenne pond pond rations risque appliqu portefeuille expositions client tail garanties bien immobilier sidentiel situ belgique description mesure mesure belge appliqu conform ment article paragraphe point glement impos tablissements dit agr belgique appliquant approche consiste majoration pond ration risque appliqu expositions client tail garanties bien immobilier sidentiel situ belgique compos deux ments premier ment consiste majoration points pourcentage pond ration risque appliqu expositions client tail garanties bien immobilier sidentiel situ bel gique obtenue apr calcul deuxi ment majoration pond ration risque conform ment point deuxi ment consiste majoration pond ration risque moyenne pond fonction expositions pond rations risque appliqu portefeuille expositions client tail garanties bien immobilier sidentiel situ belgique moyenne pond fonction expositions moyenne pond rations risque individuels calcul conform ment article glement pond valeur exposition pertinente application ciproque conform ment article paragraphe glement recommand autorit concern tats membres concern appliquer mesure belge ciprocit appliquant succur sales situ belgique tablissements dit agr niveau national utilisant approche lai cis recommandation paragraphe recommand autorit concern appliquer mesure belge ciprocit appliquant blissements dit agr niveau national utilisant approche expositions directes client tail garanties bien immobilier sidentiel situ belgique conform ment recomman dation paragraphe recommand autorit concern appliquer mesure celle mise uvre belgique autorit activation lai cis recommandation paragraphe journal officiel union europ enne existe mesure politique macroprudentielle identique territoire recommand autorit concern apr consultation cers appliquer mesure politique macroprudentielle exis tant territoire dont effet plus proche mesure susmentionn recommand appli quer ciprocit compris adoption mesures pouvoirs surveillance vus titre vii chapitre section directive recommand autorit concern adopter mesure quivalente plus tard lai quatre mois suivant publication sente recomman dation journal officiel union europ enne iii seuil importance mesure compl seuil importance fonction tablissement milliards euros afin orienter application potentielle principe minimis autorit concern appliquant mesure ciprocit conform ment section recommandation cers autorit concern tat membre concern peuvent exempter individuellement tablissements dit agr niveau national utilisant approche expositions client tail sans importance garanties bien immobilier sidentiel situ belgique inf rieures seuil importance milliards euros lorsqu elles appliquent seuil importance conseill autorit concern effectuer suivi importance expositions recommand appliquer mesure belge tablissements dit individuels agr niveau national demment exempt lorsque seuil importance milliards euros pass lorsqu tats membres concern tablissements dit agr succursales belgique expositions directes client tail garanties bien immobilier sidentiel situ belgique utilisent approche expositions milliards euros plus march biens immobiliers sidentiels belge autorit concern tats membres concern peuvent cider appliquer mesure belge ciprocit conform ment section recomman dation cers cas conseill autorit concern effectuer suivi importance expositions recommand appliquer mesure belge ciprocit lorsqu tablissement dit utilisant approche passe seuil importance milliards euros conform ment section recommandation cers seuil importance milliards euros seuil maximum recommand cons quent autorit concern charg application ciproque possibilit lieu appliquer seuil recommand fixer seuil plus faible territoire cas ant appliquer mesure ciprocit sans aucun seuil importance france durcissement limite grands risques vue article paragraphe glement applicable expositions gard soci non financi res importantes endett social france fix fonds propres ligibles appliqu conform ment article paragraphe point glement tablissements importance syst mique diale autres tablissements importance syst mique niveau consolidation plus lev rim tre prudentiel bancaire description mesure mesure fran aise appliqu conform ment article paragraphe point glement impos tablissements importance syst mique mondiale autres tablisse ments importance syst mique niveau consolidation plus lev rim tre pruden tiel bancaire consiste limite plus stricte grands risques fix fonds propres ligibles applicable expositions soci non financi res importantes endett social france soci non financi finie comme personne physique morale droit priv social france niveau niveau plus lev consolidation fait partie secteur soci non financi res tel fini annexe point glement parlement europ conseil mesure applique expositions soci non financi res social france expo sitions groupes soci non financi res comme suit soci non financi res font partie groupe soci non financi res social niveau consolidation plus lev france mesure applique somme expositions nettes gard groupe toutes entit sens article paragraphe glement glement parlement europ conseil mai relatif syst europ comptes natio naux gionaux union europ enne journal officiel union europ enne soci non financi res font partie groupe soci non financi res social niveau consolidation plus lev dehors france mesure applique somme expositions soci non financi res social france expositions entit situ france tranger lesquelles soci non financi res vis point tiennent pouvoir contr direct indirect sens article paragraphe point glement iii expositions entit situ france tranger pendantes conomiquement soci non financi res vis point sens article paragraphe point glement cons quent soci non financi res social france filiale entit conomiquement pendante soci non financi social france contr directement indirectement celle entrent champ applica tion mesure vertu article paragraphe glement mesure applicable apr prise consid ration effets techniques att nuation risque dit exemptions conform ment articles glement eism autre eis tenu consid rer tablissement non financier social france comme tant important exposition initiale soci non financi groupe soci non financi res sens paragraphe gale sup rieure millions euros valeur exposition initiale calcul conform ment articles glement avant prise consi ration effets techniques att nuation risque dit exemptions vues articles glement fournis conform ment article glement cution commission soci non financi consid comme tant endett ratio levier sup rieur ratio couverture charges financi res inf rieur trois calcul niveau consolidation groupe plus lev comme suit ratio levier rapport dettes totales liquidit capitaux propres ratio couverture charges financi res rapport entre part valeur ajout plus sub ventions exploitation moins masse salariale taxes imp exploitation iii autres charges exploitation ordinaires nettes hors int charges similaires ciation amortisse ment autre part int charges similaires ratios calcul base agr gats comptables finis conform ment normes applicables men tionn tats financiers soci non financi res certifi cas ant expert comptable application ciproque recommand autorit concern appliquer mesure fran aise ciprocit appliquant eism autres eis agr territoire niveau consolidation plus lev territoire rim tre prudentiel bancaire existe mesure politique macroprudentielle identique territoire recommand autorit concern appliquer conform ment recommandation paragraphe apr consultation cers mesure politique macroprudentielle existant territoire dont effet plus proche mesure susmentionn recommand appliquer ciprocit recommand autorit\n",
      "Summary: _START_ la recommandation du comit europ en du risque syst mique du cembre modifiant la recommandation cers sur valuation des effets transfrontaliers et la ciprocit volontaire des mesures de politique macro prudentielle cers publi au journal officiel de union europ enne le er vrier cette recommandation pr sente des mesures adopt es par certains pays membres et dont le cers recommande application ciproque en particulier il est recommand aux autorit fran aises concern es appliquer par ciprocit un durcissement de la limite aux grands risques pr vue article paragraphe du glement ue qui applique aux expositions gard des grandes entreprises non financi res tr endett es ayant leur si ge social en france fix des fonds propres ligibles appliqu conform ment article paragraphe point ii du glement ue aux tablissements importance syst mique mondiale eism et aux autres tablissements importance syst mique autres eis au plus haut niveau de consolidation de leur rim tre de surveillance prudentielle bancaire  _END_\n",
      "\n",
      "\n",
      "Review: journal officiel union europ enne glement commission mars modifiant glement portant adoption certaines normes comptables internationales conform ment glement parlement europ conseil concerne normes comptables internationales ias ias normes internationales information financi ifrs ifrs commission europ enne trait fonctionnement union europ enne glement parlement europ conseil juillet application normes comptables internationales notamment article paragraphe consid rant suit certaines normes comptables internationales interpr tations telles existant octobre adopt glement commission cembre international accounting standards board publi liorations annuelles normes internationales information financi cycle cadre processus riodique lioration vise simplifier clarifier normes liorations annuelles objectif solution non urgente cessaire questions dont iasb discut cours cycle portant passages normes internationales information financi sentant incoh rences cessitant tre formul plus clairement apr avoir consult groupe consultatif information financi europe commission conclut modifications norme comptable internationale ias imp sultat norme comptable internationale ias emprunt norme internationale information financi ifrs regroupement entreprises norme internationale information financi ifrs partenariats satisfont conditions adoption nonc article paragraphe glement convient lors modifier glement cons quence mesures vues sent glement conformes avis comit glementation comptable adopt sent glement article premier norme comptable internationale ias imp sultat modifi tel indiqu annexe sent glement norme ias emprunt modifi tel indiqu annexe sent glement norme internationale information financi ifrs regroupements entreprises modifi tel indiqu annexe sent glement norme ifrs partenariats modifi tel indiqu annexe sent glement article entreprises appliquent modifications vis article plus tard date ouverture premier exercice commen ant janvier apr cette date glement commission novembre portant adoption certaines normes comptables internationales conform ment glement parlement europ conseil journal officiel union europ enne article sent glement entre vigueur vingti jour suivant celui publication journal officiel union europ enne sent glement obligatoire tous ments directement applicable tout tat membre fait bruxelles mars commission sident jean claude juncker journal officiel union europ enne annexe liorations annuelles normes ifrs cycle modifications ifrs regroupements entreprises paragraphes ajout indications additionnelles application thode acquisition certains types regrou pements entreprises regroupement entreprises alis tapes lorsqu partie partenariat obtient contr entreprise activit conjointe imm diatement avant date acquisition tenait droits actifs obligations titre passifs cette activit conjointe transaction consid comme regroupement entreprises alis tapes acqu reur doit donc appliquer dispositions relatives regroupements entreprises alis tapes compris valuation int demment tenus activit conjointe mani crite paragraphe faire acqu reur doit valuer totalit int tenait demment activit conjointe date entr vigueur dispositions transitoires date entr vigueur publication liorations annuelles normes ifrs cycle cembre donn lieu ajout paragraphe entit doit appliquer modifications regroupements entreprises lesquels date acquisition situe ouverture apr ouverture premier exercice ouvert compter janvier application anticip permise entit applique lesdites modifications mani anticip doit indiquer modifications ifrs partenariats paragraphes ajout comptabilisation acquisitions int entreprises communes partie int entreprise commune sans toutefois tenir contr conjoint celle peut obtenir contr conjoint entreprise commune dont activit constitue entreprise sens ifrs cas int demment tenus entreprise commune valu date entr vigueur publication liorations annuelles normes ifrs cycle cembre donn lieu ajout paragraphe entit doit appliquer modifications transactions lesquelles obtient contr conjoint ouverture apr ouverture premier exercice ouvert compter janvier application anticip permise entit applique lesdites modifications mani anticip doit indiquer journal officiel union europ enne modifications ias imp sultat paragraphes ajout intertitre exemple suit paragraphe modifi paragraphe supprim valuation supprim exemple illustrant paragraphes comptabilisation imp exigible imp diff entit doit comptabiliser cons quences fiscales dividendes tels finis ifrs lors comptabilise passif titre dividendes payer cons quences fiscales dividendes sultent plus directement nements transactions pass fices distribuables distri butions faites propri taires cons quent entit doit comptabiliser cons quences fiscales dividendes sultat net autres ments sultat global capitaux propres selon poste lequel nements transactions pass comptabilis origine date entr vigueur publication liorations annuelles normes ifrs cycle cembre donn lieu ajout paragraphe suppression paragraphe entit doit appliquer modifications exercices ouverts compter janvier application anticip permise entit applique lesdites modifications mani anticip doit indiquer lorsque entit applique modifi cations premi fois doit appliquer cons quences fiscales dividendes comptabilis compter ouverture premi riode comparative modifications ias emprunt paragraphe modifi paragraphes ajout comptabilisation emprunt incorporables actif mesure entit emprunte fonds rale utilise vue obtention actif qualifi entit doit terminer montant emprunt incorporables actif appliquant taux capitalisation penses relatives cet actif taux capitalisation doit tre moyenne pond emprunt applicables tous emprunts entit cours riode toutefois entit doit exclure calcul emprunt applicables emprunts contract cifiquement but obtenir actif concern jusqu activit cessaires mise service actif vente pratiquement toutes termin montant emprunt entit incorpore actif cours riode donn doit exc der montant total emprunt support cours cette riode journal officiel union europ enne dispositions transitoires publication liorations annuelles normes ifrs cycle cembre donn lieu modification paragraphe entit doit appliquer modifications emprunt engag ouverture apr ouverture exercice lequel entit applique modifications question premi fois date entr vigueur publication liorations annuelles normes ifrs cycle cembre donn lieu modification paragraphe ajout paragraphe entit doit appliquer modifications exercices ouverts compter janvier application anticip permise entit applique lesdites modifications mani anticip doit indiquer\n",
      "Summary: _START_ le glement ue de la commission du mars modifiant le glement ce no portant adoption de certaines normes comptables internationales conform ment au glement ce du parlement europ en et du conseil en ce qui concerne les normes comptables internationales ias et ias et les normes internationales information financi re ifrs et ifrs publi au journal officiel de union europ enne le mars le cembre international accounting standards board iasb publi les am liorations annuelles des normes internationales information financi re du cycle les am liorations annuelles dans le cadre de son processus riodique am lioration qui vise simplifier et clarifier les normes ces am liorations annuelles ont pour objectif la solution non urgente mais cessaire de questions dont iasb discut au cours du cycle portant sur des passages des normes internationales information financi re pr sentant des incoh rences ou cessitant tre formul plus clairement le pr sent glement adapte la glementation europ enne en cons quence  _END_\n",
      "\n",
      "\n",
      "Review: journal officiel union europ enne glement commission mars modifiant glement portant adoption certaines normes comptables internationales conform ment glement parlement europ conseil concerne normes comptables internationales ias ias normes internationales information financi ifrs ifrs commission europ enne trait fonctionnement union europ enne glement parlement europ conseil juillet application normes comptables internationales notamment article paragraphe consid rant suit certaines normes comptables internationales interpr tations telles existant octobre adopt glement commission cembre international accounting standards board publi liorations annuelles normes internationales information financi cycle cadre processus riodique lioration vise simplifier clarifier normes liorations annuelles objectif solution non urgente cessaire questions dont iasb discut cours cycle portant passages normes internationales information financi sentant incoh rences cessitant tre formul plus clairement apr avoir consult groupe consultatif information financi europe commission conclut modifications norme comptable internationale ias imp sultat norme comptable internationale ias emprunt norme internationale information financi ifrs regroupement entreprises norme internationale information financi ifrs partenariats satisfont conditions adoption nonc article paragraphe glement convient lors modifier glement cons quence mesures vues sent glement conformes avis comit glementation comptable adopt sent glement article premier norme comptable internationale ias imp sultat modifi tel indiqu annexe sent glement norme ias emprunt modifi tel indiqu annexe sent glement norme internationale information financi ifrs regroupements entreprises modifi tel indiqu annexe sent glement norme ifrs partenariats modifi tel indiqu annexe sent glement article entreprises appliquent modifications vis article plus tard date ouverture premier exercice commen ant janvier apr cette date glement commission novembre portant adoption certaines normes comptables internationales conform ment glement parlement europ conseil journal officiel union europ enne article sent glement entre vigueur vingti jour suivant celui publication journal officiel union europ enne sent glement obligatoire tous ments directement applicable tout tat membre fait bruxelles mars commission sident jean claude juncker journal officiel union europ enne annexe liorations annuelles normes ifrs cycle modifications ifrs regroupements entreprises paragraphes ajout indications additionnelles application thode acquisition certains types regrou pements entreprises regroupement entreprises alis tapes lorsqu partie partenariat obtient contr entreprise activit conjointe imm diatement avant date acquisition tenait droits actifs obligations titre passifs cette activit conjointe transaction consid comme regroupement entreprises alis tapes acqu reur doit donc appliquer dispositions relatives regroupements entreprises alis tapes compris valuation int demment tenus activit conjointe mani crite paragraphe faire acqu reur doit valuer totalit int tenait demment activit conjointe date entr vigueur dispositions transitoires date entr vigueur publication liorations annuelles normes ifrs cycle cembre donn lieu ajout paragraphe entit doit appliquer modifications regroupements entreprises lesquels date acquisition situe ouverture apr ouverture premier exercice ouvert compter janvier application anticip permise entit applique lesdites modifications mani anticip doit indiquer modifications ifrs partenariats paragraphes ajout comptabilisation acquisitions int entreprises communes partie int entreprise commune sans toutefois tenir contr conjoint celle peut obtenir contr conjoint entreprise commune dont activit constitue entreprise sens ifrs cas int demment tenus entreprise commune valu date entr vigueur publication liorations annuelles normes ifrs cycle cembre donn lieu ajout paragraphe entit doit appliquer modifications transactions lesquelles obtient contr conjoint ouverture apr ouverture premier exercice ouvert compter janvier application anticip permise entit applique lesdites modifications mani anticip doit indiquer journal officiel union europ enne modifications ias imp sultat paragraphes ajout intertitre exemple suit paragraphe modifi paragraphe supprim valuation supprim exemple illustrant paragraphes comptabilisation imp exigible imp diff entit doit comptabiliser cons quences fiscales dividendes tels finis ifrs lors comptabilise passif titre dividendes payer cons quences fiscales dividendes sultent plus directement nements transactions pass fices distribuables distri butions faites propri taires cons quent entit doit comptabiliser cons quences fiscales dividendes sultat net autres ments sultat global capitaux propres selon poste lequel nements transactions pass comptabilis origine date entr vigueur publication liorations annuelles normes ifrs cycle cembre donn lieu ajout paragraphe suppression paragraphe entit doit appliquer modifications exercices ouverts compter janvier application anticip permise entit applique lesdites modifications mani anticip doit indiquer lorsque entit applique modifi cations premi fois doit appliquer cons quences fiscales dividendes comptabilis compter ouverture premi riode comparative modifications ias emprunt paragraphe modifi paragraphes ajout comptabilisation emprunt incorporables actif mesure entit emprunte fonds rale utilise vue obtention actif qualifi entit doit terminer montant emprunt incorporables actif appliquant taux capitalisation penses relatives cet actif taux capitalisation doit tre moyenne pond emprunt applicables tous emprunts entit cours riode toutefois entit doit exclure calcul emprunt applicables emprunts contract cifiquement but obtenir actif concern jusqu activit cessaires mise service actif vente pratiquement toutes termin montant emprunt entit incorpore actif cours riode donn doit exc der montant total emprunt support cours cette riode journal officiel union europ enne dispositions transitoires publication liorations annuelles normes ifrs cycle cembre donn lieu modification paragraphe entit doit appliquer modifications emprunt engag ouverture apr ouverture exercice lequel entit applique modifications question premi fois date entr vigueur publication liorations annuelles normes ifrs cycle cembre donn lieu modification paragraphe ajout paragraphe entit doit appliquer modifications exercices ouverts compter janvier application anticip permise entit applique lesdites modifications mani anticip doit indiquer\n",
      "Summary: _START_ le glement ue de la commission du mars modifiant le glement ce no portant adoption de certaines normes comptables internationales conform ment au glement ce du parlement europ en et du conseil en ce qui concerne les normes comptables internationales ias et ias et les normes internationales information financi re ifrs et ifrs publi au journal officiel de union europ enne le mars le cembre international accounting standards board iasb publi les am liorations annuelles des normes internationales information financi re du cycle les am liorations annuelles dans le cadre de son processus riodique am lioration qui vise simplifier et clarifier les normes ces am liorations annuelles ont pour objectif la solution non urgente mais cessaire de questions dont iasb discut au cours du cycle portant sur des passages des normes internationales information financi re pr sentant des incoh rences ou cessitant tre formul plus clairement le pr sent glement adapte la glementation europ enne en cons quence  _END_\n",
      "\n",
      "\n",
      "Review: journal officiel union europ enne glement commission mars modifiant glement portant adoption certaines normes comptables internationales conform ment glement parlement europ conseil concerne normes comptables internationales ias ias normes internationales information financi ifrs ifrs commission europ enne trait fonctionnement union europ enne glement parlement europ conseil juillet application normes comptables internationales notamment article paragraphe consid rant suit certaines normes comptables internationales interpr tations telles existant octobre adopt glement commission cembre international accounting standards board publi liorations annuelles normes internationales information financi cycle cadre processus riodique lioration vise simplifier clarifier normes liorations annuelles objectif solution non urgente cessaire questions dont iasb discut cours cycle portant passages normes internationales information financi sentant incoh rences cessitant tre formul plus clairement apr avoir consult groupe consultatif information financi europe commission conclut modifications norme comptable internationale ias imp sultat norme comptable internationale ias emprunt norme internationale information financi ifrs regroupement entreprises norme internationale information financi ifrs partenariats satisfont conditions adoption nonc article paragraphe glement convient lors modifier glement cons quence mesures vues sent glement conformes avis comit glementation comptable adopt sent glement article premier norme comptable internationale ias imp sultat modifi tel indiqu annexe sent glement norme ias emprunt modifi tel indiqu annexe sent glement norme internationale information financi ifrs regroupements entreprises modifi tel indiqu annexe sent glement norme ifrs partenariats modifi tel indiqu annexe sent glement article entreprises appliquent modifications vis article plus tard date ouverture premier exercice commen ant janvier apr cette date glement commission novembre portant adoption certaines normes comptables internationales conform ment glement parlement europ conseil journal officiel union europ enne article sent glement entre vigueur vingti jour suivant celui publication journal officiel union europ enne sent glement obligatoire tous ments directement applicable tout tat membre fait bruxelles mars commission sident jean claude juncker journal officiel union europ enne annexe liorations annuelles normes ifrs cycle modifications ifrs regroupements entreprises paragraphes ajout indications additionnelles application thode acquisition certains types regrou pements entreprises regroupement entreprises alis tapes lorsqu partie partenariat obtient contr entreprise activit conjointe imm diatement avant date acquisition tenait droits actifs obligations titre passifs cette activit conjointe transaction consid comme regroupement entreprises alis tapes acqu reur doit donc appliquer dispositions relatives regroupements entreprises alis tapes compris valuation int demment tenus activit conjointe mani crite paragraphe faire acqu reur doit valuer totalit int tenait demment activit conjointe date entr vigueur dispositions transitoires date entr vigueur publication liorations annuelles normes ifrs cycle cembre donn lieu ajout paragraphe entit doit appliquer modifications regroupements entreprises lesquels date acquisition situe ouverture apr ouverture premier exercice ouvert compter janvier application anticip permise entit applique lesdites modifications mani anticip doit indiquer modifications ifrs partenariats paragraphes ajout comptabilisation acquisitions int entreprises communes partie int entreprise commune sans toutefois tenir contr conjoint celle peut obtenir contr conjoint entreprise commune dont activit constitue entreprise sens ifrs cas int demment tenus entreprise commune valu date entr vigueur publication liorations annuelles normes ifrs cycle cembre donn lieu ajout paragraphe entit doit appliquer modifications transactions lesquelles obtient contr conjoint ouverture apr ouverture premier exercice ouvert compter janvier application anticip permise entit applique lesdites modifications mani anticip doit indiquer journal officiel union europ enne modifications ias imp sultat paragraphes ajout intertitre exemple suit paragraphe modifi paragraphe supprim valuation supprim exemple illustrant paragraphes comptabilisation imp exigible imp diff entit doit comptabiliser cons quences fiscales dividendes tels finis ifrs lors comptabilise passif titre dividendes payer cons quences fiscales dividendes sultent plus directement nements transactions pass fices distribuables distri butions faites propri taires cons quent entit doit comptabiliser cons quences fiscales dividendes sultat net autres ments sultat global capitaux propres selon poste lequel nements transactions pass comptabilis origine date entr vigueur publication liorations annuelles normes ifrs cycle cembre donn lieu ajout paragraphe suppression paragraphe entit doit appliquer modifications exercices ouverts compter janvier application anticip permise entit applique lesdites modifications mani anticip doit indiquer lorsque entit applique modifi cations premi fois doit appliquer cons quences fiscales dividendes comptabilis compter ouverture premi riode comparative modifications ias emprunt paragraphe modifi paragraphes ajout comptabilisation emprunt incorporables actif mesure entit emprunte fonds rale utilise vue obtention actif qualifi entit doit terminer montant emprunt incorporables actif appliquant taux capitalisation penses relatives cet actif taux capitalisation doit tre moyenne pond emprunt applicables tous emprunts entit cours riode toutefois entit doit exclure calcul emprunt applicables emprunts contract cifiquement but obtenir actif concern jusqu activit cessaires mise service actif vente pratiquement toutes termin montant emprunt entit incorpore actif cours riode donn doit exc der montant total emprunt support cours cette riode journal officiel union europ enne dispositions transitoires publication liorations annuelles normes ifrs cycle cembre donn lieu modification paragraphe entit doit appliquer modifications emprunt engag ouverture apr ouverture exercice lequel entit applique modifications question premi fois date entr vigueur publication liorations annuelles normes ifrs cycle cembre donn lieu modification paragraphe ajout paragraphe entit doit appliquer modifications exercices ouverts compter janvier application anticip permise entit applique lesdites modifications mani anticip doit indiquer\n",
      "Summary: _START_ le glement ue de la commission du mars modifiant le glement ce no portant adoption de certaines normes comptables internationales conform ment au glement ce du parlement europ en et du conseil en ce qui concerne les normes comptables internationales ias et ias et les normes internationales information financi re ifrs et ifrs publi au journal officiel de union europ enne le mars le cembre international accounting standards board iasb publi les am liorations annuelles des normes internationales information financi re du cycle les am liorations annuelles dans le cadre de son processus riodique am lioration qui vise simplifier et clarifier les normes ces am liorations annuelles ont pour objectif la solution non urgente mais cessaire de questions dont iasb discut au cours du cycle portant sur des passages des normes internationales information financi re pr sentant des incoh rences ou cessitant tre formul plus clairement le pr sent glement adapte la glementation europ enne en cons quence  _END_\n",
      "\n",
      "\n",
      "Review: mars journal officiel publique fran aise texte avis communications avis divers minist conomie finances avis mars relatif application articles code consommation code taire financier concernant usure nor ecot taux effectifs moyens pratiqu tablissements dit cours premier trimestre ann diverses cat gories dits seuils usure correspondants applicables compter avril taux effectif pratiqu premier trimestre seuil usure applicable cat gories tablissements dit compter avril soci financement contrats dit consentis consommateurs entrant champ application article code consommation constituant ration dit montant sup rieur euros destin financer immeubles usage habitation usage professionnel habitation penses relatives paration lioration entretien montant inf rieur gal euros montant sup rieur euros inf rieur gal euros montant sup rieur euros appr cier caract usuraire taux effectif global couvert compte permanent montant prendre consid ration celui dit effectivement utilis taux effectif pratiqu premier trimestre seuil usure applicable cat gories tablissements dit compter avril soci financement contrats dits consentis consommateurs destin financer rations entrant champ application article code consommation relatif dit immobilier montant sup rieur euros destin financer immeubles usage habitation usage professionnel habitation penses relatives paration lioration entretien taux fixe dur inf rieure ans dur comprise entre ans moins ans dur ans plus taux variable relais incluant rations dit destin regrouper dits ant rieurs comprenant dits mentionn article code consommation dont part relative passe montant total ration regroupement dit agissant taux usure applicable dits taux fixe fixation seuils usure tranche maturit moins ans ans moins ans ans plus mars journal officiel publique fran aise texte taux effectif pratiqu premier trimestre cat gories tablissements dit seuil usure applicable soci financement compter avril accord personnes physiques agissant leurs besoins professionnels personnes morales activit industrielle commerciale artisanale agricole professionnelle non commerciale couverts compte taux effectif pratiqu premier trimestre cat gories tablissements dit seuil usure applicable soci financement compter avril personnes morales activit industrielle commerciale artisanale agricole professionnelle non commerciale consentis vue achats ventes temp rament dur initiale sup rieure deux ans taux variable dur initiale sup rieure deux ans taux fixe couverts compte autres dur initiale inf rieure gale deux ans taux moyen pratiqu taux moyen pratiqu taux effectif entreprises dur initiale sup rieure deux ans taux variable montant inf rieur gal euros taux utilis direction rale finances publiques calcul taux maximum int ductibles comptes courants associ taux effectif moyen pratiqu tablissements dit cours premier trimestre cette cat gorie dispositions sent avis font rence articles code consommation daction sultant ordonnance mars contrats dit consommateurs relatifs biens immobiliers usage habitation\n",
      "Summary: _START_ avis du mars relatif application des articles du code de la consommation et du code mon taire et financier concernant usure publi au journal officiel de la publique fran aise le mars cet avis vient pr ciser les taux effectifs moyens pratiqu par les tablissements de cr dit au cours du premier trimestre de ann pour les diverses cat gories de cr dits et seuils de usure correspondants applicables compter du er avril avis du mars relatif application des articles du code de la consommation et du code mon taire et financier concernant usure publi au journal officiel de la publique fran aise le mars cet avis vient pr ciser les taux effectifs moyens pratiqu par les tablissements de cr dit au cours du premier trimestre de ann pour les diverses cat gories de cr dits et seuils de usure correspondants applicables compter du er avril  _END_\n",
      "\n",
      "\n"
     ]
    }
   ],
   "source": [
    "for i in range(5):\n",
    "    print(\"Review:\",data['cleaned_text'][i])\n",
    "    print(\"Summary:\",data['cleaned_summary'][i])\n",
    "    print(\"\\n\")"
   ]
  },
  {
   "cell_type": "code",
   "execution_count": 107,
   "metadata": {},
   "outputs": [
    {
     "data": {
      "image/png": "[encoded data removed]",
      "text/plain": [
       "<Figure size 432x288 with 2 Axes>"
      ]
     },
     "metadata": {
      "needs_background": "light"
     },
     "output_type": "display_data"
    }
   ],
   "source": [
    "import matplotlib.pyplot as plt\n",
    "text_word_count = []\n",
    "summary_word_count = []\n",
    "\n",
    "# populate the lists with sentence lengths\n",
    "for i in data['cleaned_text']:\n",
    "      text_word_count.append(len(i.split()))\n",
    "\n",
    "for i in data['cleaned_summary']:\n",
    "      summary_word_count.append(len(i.split()))\n",
    "\n",
    "length_df = pd.DataFrame({'text':text_word_count, 'summary':summary_word_count})\n",
    "length_df.hist(bins = 30)\n",
    "plt.show()"
   ]
  },
  {
   "cell_type": "code",
   "execution_count": 108,
   "metadata": {},
   "outputs": [],
   "source": [
    "max_len_text=500\n",
    "max_len_summary=100"
   ]
  },
  {
   "cell_type": "code",
   "execution_count": 119,
   "metadata": {},
   "outputs": [],
   "source": [
    "from sklearn.model_selection import train_test_split\n",
    "x_tr,x_val,y_tr,y_val=train_test_split(data['cleaned_text'],data['cleaned_summary'],test_size=0.1,random_state=0,shuffle=True) "
   ]
  },
  {
   "cell_type": "code",
   "execution_count": 120,
   "metadata": {},
   "outputs": [],
   "source": [
    "x_tr=x_tr[:50]\n",
    "x_val=x_val[:20]\n",
    "y_tr=y_tr[:50]\n",
    "y_val=y_val[:20]"
   ]
  },
  {
   "cell_type": "code",
   "execution_count": 121,
   "metadata": {},
   "outputs": [],
   "source": [
    "#prepare a tokenizer for reviews on training data\n",
    "x_tokenizer = Tokenizer()\n",
    "x_tokenizer.fit_on_texts(list(x_tr))\n",
    "\n",
    "#convert text sequences into integer sequences\n",
    "x_tr    =   x_tokenizer.texts_to_sequences(x_tr) \n",
    "x_val   =   x_tokenizer.texts_to_sequences(x_val)\n",
    "\n",
    "#padding zero upto maximum length\n",
    "x_tr    =   pad_sequences(x_tr,  maxlen=max_len_text, padding='post') \n",
    "x_val   =   pad_sequences(x_val, maxlen=max_len_text, padding='post')\n",
    "\n",
    "x_voc_size   =  len(x_tokenizer.word_index) +1"
   ]
  },
  {
   "cell_type": "code",
   "execution_count": 122,
   "metadata": {},
   "outputs": [],
   "source": [
    "#preparing a tokenizer for summary on training data \n",
    "y_tokenizer = Tokenizer()\n",
    "y_tokenizer.fit_on_texts(list(y_tr))\n",
    "\n",
    "#convert summary sequences into integer sequences\n",
    "y_tr    =   y_tokenizer.texts_to_sequences(y_tr) \n",
    "y_val   =   y_tokenizer.texts_to_sequences(y_val) \n",
    "\n",
    "#padding zero upto maximum length\n",
    "y_tr    =   pad_sequences(y_tr, maxlen=max_len_summary, padding='post')\n",
    "y_val   =   pad_sequences(y_val, maxlen=max_len_summary, padding='post')\n",
    "\n",
    "y_voc_size  =   len(y_tokenizer.word_index) +1"
   ]
  },
  {
   "cell_type": "code",
   "execution_count": 124,
   "metadata": {},
   "outputs": [
    {
     "name": "stdout",
     "output_type": "stream",
     "text": [
      "Model: \"model\"\n",
      "__________________________________________________________________________________________________\n",
      "Layer (type)                    Output Shape         Param #     Connected to                     \n",
      "==================================================================================================\n",
      "input_1 (InputLayer)            [(None, 500)]        0                                            \n",
      "__________________________________________________________________________________________________\n",
      "embedding (Embedding)           (None, 500, 50)      263850      input_1[0][0]                    \n",
      "__________________________________________________________________________________________________\n",
      "lstm (LSTM)                     [(None, 500, 50), (N 20200       embedding[0][0]                  \n",
      "__________________________________________________________________________________________________\n",
      "input_2 (InputLayer)            [(None, None)]       0                                            \n",
      "__________________________________________________________________________________________________\n",
      "lstm_1 (LSTM)                   [(None, 500, 50), (N 20200       lstm[0][0]                       \n",
      "__________________________________________________________________________________________________\n",
      "embedding_1 (Embedding)         (None, None, 50)     65900       input_2[0][0]                    \n",
      "__________________________________________________________________________________________________\n",
      "lstm_2 (LSTM)                   [(None, 500, 50), (N 20200       lstm_1[0][0]                     \n",
      "__________________________________________________________________________________________________\n",
      "lstm_3 (LSTM)                   [(None, None, 50), ( 20200       embedding_1[0][0]                \n",
      "                                                                 lstm_2[0][1]                     \n",
      "                                                                 lstm_2[0][2]                     \n",
      "__________________________________________________________________________________________________\n",
      "attention_layer (AttentionLayer ((None, None, 50), ( 5050        lstm_2[0][0]                     \n",
      "                                                                 lstm_3[0][0]                     \n",
      "__________________________________________________________________________________________________\n",
      "concat_layer (Concatenate)      (None, None, 100)    0           lstm_3[0][0]                     \n",
      "                                                                 attention_layer[0][0]            \n",
      "__________________________________________________________________________________________________\n",
      "time_distributed (TimeDistribut (None, None, 1318)   133118      concat_layer[0][0]               \n",
      "==================================================================================================\n",
      "Total params: 548,718\n",
      "Trainable params: 548,718\n",
      "Non-trainable params: 0\n",
      "__________________________________________________________________________________________________\n"
     ]
    }
   ],
   "source": [
    "from keras import backend as K \n",
    "K.clear_session() \n",
    "latent_dim = 50\n",
    "\n",
    "# Encoder \n",
    "encoder_inputs = Input(shape=(max_len_text,)) \n",
    "enc_emb = Embedding(x_voc_size, latent_dim,trainable=True)(encoder_inputs) \n",
    "\n",
    "#LSTM 1 \n",
    "encoder_lstm1 = LSTM(latent_dim,return_sequences=True,return_state=True) \n",
    "encoder_output1, state_h1, state_c1 = encoder_lstm1(enc_emb) \n",
    "\n",
    "#LSTM 2 \n",
    "encoder_lstm2 = LSTM(latent_dim,return_sequences=True,return_state=True) \n",
    "encoder_output2, state_h2, state_c2 = encoder_lstm2(encoder_output1) \n",
    "\n",
    "#LSTM 3 \n",
    "encoder_lstm3=LSTM(latent_dim, return_state=True, return_sequences=True) \n",
    "encoder_outputs, state_h, state_c= encoder_lstm3(encoder_output2) \n",
    "\n",
    "# Set up the decoder. \n",
    "decoder_inputs = Input(shape=(None,)) \n",
    "dec_emb_layer = Embedding(y_voc_size, latent_dim,trainable=True) \n",
    "dec_emb = dec_emb_layer(decoder_inputs) \n",
    "\n",
    "#LSTM using encoder_states as initial state\n",
    "decoder_lstm = LSTM(latent_dim, return_sequences=True, return_state=True) \n",
    "decoder_outputs,decoder_fwd_state, decoder_back_state = decoder_lstm(dec_emb,initial_state=[state_h, state_c]) \n",
    "\n",
    "#Attention Layer\n",
    "attn_layer = AttentionLayer(name='attention_layer') \n",
    "attn_out, attn_states = attn_layer([encoder_outputs, decoder_outputs]) \n",
    "\n",
    "# Concat attention output and decoder LSTM output \n",
    "decoder_concat_input = Concatenate(axis=-1, name='concat_layer')([decoder_outputs, attn_out])\n",
    "\n",
    "#Dense layer\n",
    "decoder_dense = TimeDistributed(Dense(y_voc_size, activation='softmax')) \n",
    "decoder_outputs = decoder_dense(decoder_concat_input) \n",
    "\n",
    "# Define the model\n",
    "model = Model([encoder_inputs, decoder_inputs], decoder_outputs) \n",
    "model.summary()"
   ]
  },
  {
   "cell_type": "code",
   "execution_count": 126,
   "metadata": {},
   "outputs": [],
   "source": [
    "model.compile(optimizer='rmsprop', loss='sparse_categorical_crossentropy')"
   ]
  },
  {
   "cell_type": "code",
   "execution_count": 127,
   "metadata": {},
   "outputs": [],
   "source": [
    "es = EarlyStopping(monitor='val_loss', mode='min', verbose=1)"
   ]
  },
  {
   "cell_type": "code",
   "execution_count": 128,
   "metadata": {},
   "outputs": [
    {
     "name": "stdout",
     "output_type": "stream",
     "text": [
      "Train on 50 samples, validate on 20 samples\n",
      "Epoch 1/20\n",
      "50/50 [==============================] - 13s 262ms/sample - loss: 7.1836 - val_loss: 7.1709\n",
      "Epoch 2/20\n",
      "50/50 [==============================] - 6s 114ms/sample - loss: 7.1748 - val_loss: 7.1517\n",
      "Epoch 3/20\n",
      "50/50 [==============================] - 9s 178ms/sample - loss: 7.1605 - val_loss: 7.0997\n",
      "Epoch 4/20\n",
      "50/50 [==============================] - 20s 409ms/sample - loss: 7.1205 - val_loss: 6.9190\n",
      "Epoch 5/20\n",
      "50/50 [==============================] - 6s 112ms/sample - loss: 6.9773 - val_loss: 6.5925\n",
      "Epoch 6/20\n",
      "50/50 [==============================] - 6s 121ms/sample - loss: 6.7226 - val_loss: 6.2567\n",
      "Epoch 7/20\n",
      "50/50 [==============================] - 5s 107ms/sample - loss: 6.4668 - val_loss: 5.9211\n",
      "Epoch 8/20\n",
      "50/50 [==============================] - 5s 105ms/sample - loss: 6.2041 - val_loss: 5.6875\n",
      "Epoch 9/20\n",
      "50/50 [==============================] - 6s 110ms/sample - loss: 6.0280 - val_loss: 5.5014\n",
      "Epoch 10/20\n",
      "50/50 [==============================] - 5s 106ms/sample - loss: 5.8933 - val_loss: 5.3520\n",
      "Epoch 11/20\n",
      "50/50 [==============================] - 5s 107ms/sample - loss: 5.7903 - val_loss: 5.2310\n",
      "Epoch 12/20\n",
      "50/50 [==============================] - 6s 116ms/sample - loss: 5.7098 - val_loss: 5.1323\n",
      "Epoch 13/20\n",
      "50/50 [==============================] - 5s 108ms/sample - loss: 5.6474 - val_loss: 5.0550\n",
      "Epoch 14/20\n",
      "50/50 [==============================] - 6s 126ms/sample - loss: 5.6003 - val_loss: 4.9940\n",
      "Epoch 15/20\n",
      "50/50 [==============================] - 6s 112ms/sample - loss: 5.5653 - val_loss: 4.9473\n",
      "Epoch 16/20\n",
      "50/50 [==============================] - 6s 117ms/sample - loss: 5.5392 - val_loss: 4.9118\n",
      "Epoch 17/20\n",
      "50/50 [==============================] - 5s 109ms/sample - loss: 5.5194 - val_loss: 4.8837\n",
      "Epoch 18/20\n",
      "50/50 [==============================] - 7s 148ms/sample - loss: 5.5042 - val_loss: 4.8612\n",
      "Epoch 19/20\n",
      "50/50 [==============================] - 13s 260ms/sample - loss: 5.4919 - val_loss: 4.8425\n",
      "Epoch 20/20\n",
      "50/50 [==============================] - 6s 110ms/sample - loss: 5.4808 - val_loss: 4.8273\n"
     ]
    }
   ],
   "source": [
    "history=model.fit([x_tr,y_tr[:,:-1]], y_tr.reshape(y_tr.shape[0],y_tr.shape[1], 1)[:,1:] ,epochs=20,callbacks=[es],batch_size=512, validation_data=([x_val,y_val[:,:-1]], y_val.reshape(y_val.shape[0],y_val.shape[1], 1)[:,1:]))\n"
   ]
  },
  {
   "cell_type": "code",
   "execution_count": 129,
   "metadata": {},
   "outputs": [
    {
     "data": {
      "image/png": "[encoded data removed]",
      "text/plain": [
       "<Figure size 432x288 with 1 Axes>"
      ]
     },
     "metadata": {
      "needs_background": "light"
     },
     "output_type": "display_data"
    }
   ],
   "source": [
    "from matplotlib import pyplot \n",
    "pyplot.plot(history.history['loss'], label='train') \n",
    "pyplot.plot(history.history['val_loss'], label='test') \n",
    "pyplot.legend()\n",
    "pyplot.show()"
   ]
  },
  {
   "cell_type": "code",
   "execution_count": 130,
   "metadata": {},
   "outputs": [],
   "source": [
    "#to convert results to text summary\n",
    "reverse_target_word_index=y_tokenizer.index_word \n",
    "reverse_source_word_index=x_tokenizer.index_word \n",
    "target_word_index=y_tokenizer.word_index"
   ]
  },
  {
   "cell_type": "code",
   "execution_count": 131,
   "metadata": {},
   "outputs": [],
   "source": [
    "# encoder inference\n",
    "encoder_model = Model(inputs=encoder_inputs,outputs=[encoder_outputs, state_h, state_c])\n",
    "\n",
    "# decoder inference\n",
    "# Below tensors will hold the states of the previous time step\n",
    "decoder_state_input_h = Input(shape=(latent_dim,))\n",
    "decoder_state_input_c = Input(shape=(latent_dim,))\n",
    "decoder_hidden_state_input = Input(shape=(max_len_text,latent_dim))\n",
    "\n",
    "# Get the embeddings of the decoder sequence\n",
    "dec_emb2= dec_emb_layer(decoder_inputs)\n",
    "\n",
    "# To predict the next word in the sequence, set the initial states to the states from the previous time step\n",
    "decoder_outputs2, state_h2, state_c2 = decoder_lstm(dec_emb2, initial_state=[decoder_state_input_h, decoder_state_input_c])\n",
    "\n",
    "#attention inference\n",
    "attn_out_inf, attn_states_inf = attn_layer([decoder_hidden_state_input, decoder_outputs2])\n",
    "decoder_inf_concat = Concatenate(axis=-1, name='concat')([decoder_outputs2, attn_out_inf])\n",
    "\n",
    "# A dense softmax layer to generate prob dist. over the target vocabulary\n",
    "decoder_outputs2 = decoder_dense(decoder_inf_concat)\n",
    "\n",
    "# Final decoder model\n",
    "decoder_model = Model(\n",
    "[decoder_inputs] + [decoder_hidden_state_input,decoder_state_input_h, decoder_state_input_c],\n",
    "[decoder_outputs2] + [state_h2, state_c2])"
   ]
  },
  {
   "cell_type": "code",
   "execution_count": 132,
   "metadata": {},
   "outputs": [],
   "source": [
    "#inference process\n",
    "def decode_sequence(input_seq):\n",
    "    # Encode the input as state vectors.\n",
    "    e_out, e_h, e_c = encoder_model.predict(input_seq)\n",
    "\n",
    "    # Generate empty target sequence of length 1.\n",
    "    target_seq = np.zeros((1,1))\n",
    "\n",
    "    # Chose the 'start' word as the first word of the target sequence\n",
    "    target_seq[0, 0] = target_word_index['start']\n",
    "\n",
    "    stop_condition = False\n",
    "    decoded_sentence = ''\n",
    "    while not stop_condition:\n",
    "        output_tokens, h, c = decoder_model.predict([target_seq] + [e_out, e_h, e_c])\n",
    "\n",
    "        # Sample a token\n",
    "        sampled_token_index = np.argmax(output_tokens[0, -1, :])\n",
    "        sampled_token = reverse_target_word_index[sampled_token_index]\n",
    "\n",
    "        if(sampled_token!='end'):\n",
    "            decoded_sentence += ' '+sampled_token\n",
    "\n",
    "            # Exit condition: either hit max length or find stop word.\n",
    "            if (sampled_token == 'end' or len(decoded_sentence.split()) >= (max_len_summary-1)):\n",
    "                stop_condition = True\n",
    "\n",
    "        # Update the target sequence (of length 1).\n",
    "        target_seq = np.zeros((1,1))\n",
    "        target_seq[0, 0] = sampled_token_index\n",
    "\n",
    "        # Update internal states\n",
    "        e_h, e_c = h, c\n",
    "\n",
    "    return decoded_sentence"
   ]
  },
  {
   "cell_type": "code",
   "execution_count": 133,
   "metadata": {},
   "outputs": [],
   "source": [
    "#function to convert results to string\n",
    "def seq2summary(input_seq):\n",
    "    newString=''\n",
    "    for i in input_seq:\n",
    "        if((i!=0 and i!=target_word_index['start']) and i!=target_word_index['end']):\n",
    "            newString=newString+reverse_target_word_index[i]+' '\n",
    "    return newString\n",
    "\n",
    "def seq2text(input_seq):\n",
    "    newString=''\n",
    "    for i in input_seq:\n",
    "        if(i!=0):\n",
    "            newString=newString+reverse_source_word_index[i]+' '\n",
    "    return newString"
   ]
  },
  {
   "cell_type": "code",
   "execution_count": 134,
   "metadata": {},
   "outputs": [
    {
     "name": "stdout",
     "output_type": "stream",
     "text": [
      "Review: transparence document vrier modifi mai position recommandation amf guide documents glementaires opc doc recommandations plus lisibilit documents glementaires fonds isr devraient senter objectif gestion sentant dimension extra financi gestion types isr pratiqu ainsi ments quant thodes lection gestion pratiqu fonds communiquent objectifs mesurant impact esg devraient part veiller senter objectifs clairs cis argument valuables autre part assurer suivi objectifs temps classification opcvm classification cas ant doit tre indiqu rubrique objectifs politique investissement document information investisseur conform ment article instruction doc classification diversifi rassemble tous opcvm rel vent autre cat gorie seul cas limites exposition opcvm telles finies document information investisseur pondent aucune limite fix articles suivants instruction doc relatifs classifications celui pourra tre class diversifi jusqu cembre date apr laquelle cette classification supprim exemple opcvm afficherait fourchettes exposition march obligataire march actions zone euro peut aucun cas avoir classification diversifi puisqu pond crit res finis article instruction doc relatif classification actions zone euro politique investissement politique investissement crit principes gestion mise uvre sein opcvm mani succincte doit attacher senter informations permettant type souscripteur auquel destin opcvm comprendre quels moyens opcvm envisage atteindre objectif gestion fix informations relatives politique investissement mise uvre doivent donc tre sent mani compr hensible exception classifications vis articles instruction doc classifications fonds telles elles sultent article instruction doc applicables opcvm choisi conserver classifications gle applicable classifications fia classifications vis articles instruction doc instruction doc peuvent faire objet suppression cision opc autres classifications applicables fia choisi conserver opcvm pourront recourir classification diversifi jusqu cembre compris ceux constitueront apr cette date supprim opcvm devront alors supprimer toute rence cette classification leurs documents glementaires gle applicable classification diversifi fia vis articles instruction doc instruction doc cas ant tous cas gle applicable classifications fia seul cas limites exposition fia telles finies document information investisseur pondent aucune limite fix articles suivants instructions doc doc relatifs classifications desdits fia celui pourra selon choix fps concern tre class diversifi similairement article instruction doc article instruction doc voient classification actions zone euro document vrier modifi mai position recommandation amf guide documents glementaires opc doc lorsque investisseur concern non professionnel termes techniques appartenant jargon financier doivent tre vit ceci galement valable lorsque opcvm souscrit compagnie assurance distribu investisseurs non professionnels sous forme contrats assurance vie unit compte rappel possible pertinent document information investisseur mentionner liste exhaustive actifs utilis cette information doit revanche figurer prospectus sentation rale politique investissement politique investissement doit concentrer explication profil rendement risque recherch strat gies gestion utilis prospectus crit quant techniques financi res mises uvre afin profil rendement risque lorsque opcvm investi certains march utilise techniques financi res modifier exposition march document doit senter exposition consolid sulte titre exemple lorsqu opcvm investi march actions serve possibilit couvrir int gralement risque action utilisant contrats financiers amf demande senter strat gie exposition fonds march actions consolidant exposition sultant acquisition directe actions autres strat gies exposition couverture lorsque strat gie investissement marrage fonds diff celle mise place terme politique investissement doit faire ressortir cette situation crire strat gies mises uvre successivement sentation politique investis \n",
      "Original summary: amf publi le mai une mise jour de sa position recommandation doc guide des documents glementaires des opc les principales modifications apport es la version origine sont les suivantes insertion un tableau de synth se reproduisant les obligations des fonds ouverts des investisseurs professionnels au regard de obligation tablir un document information cl pour investisseur ajout une rubrique relative la pr sentation des frais de gestion dans le prospectus \n"
     ]
    },
    {
     "ename": "KeyError",
     "evalue": "0",
     "output_type": "error",
     "traceback": [
      "\u001b[1;31m---------------------------------------------------------------------------\u001b[0m",
      "\u001b[1;31mKeyError\u001b[0m                                  Traceback (most recent call last)",
      "\u001b[1;32m<ipython-input-134-596055d7308a>\u001b[0m in \u001b[0;36m<module>\u001b[1;34m\u001b[0m\n\u001b[0;32m      2\u001b[0m     \u001b[0mprint\u001b[0m\u001b[1;33m(\u001b[0m\u001b[1;34m\"Review:\"\u001b[0m\u001b[1;33m,\u001b[0m\u001b[0mseq2text\u001b[0m\u001b[1;33m(\u001b[0m\u001b[0mx_val\u001b[0m\u001b[1;33m[\u001b[0m\u001b[0mi\u001b[0m\u001b[1;33m]\u001b[0m\u001b[1;33m)\u001b[0m\u001b[1;33m)\u001b[0m\u001b[1;33m\u001b[0m\u001b[1;33m\u001b[0m\u001b[0m\n\u001b[0;32m      3\u001b[0m     \u001b[0mprint\u001b[0m\u001b[1;33m(\u001b[0m\u001b[1;34m\"Original summary:\"\u001b[0m\u001b[1;33m,\u001b[0m\u001b[0mseq2summary\u001b[0m\u001b[1;33m(\u001b[0m\u001b[0my_val\u001b[0m\u001b[1;33m[\u001b[0m\u001b[0mi\u001b[0m\u001b[1;33m]\u001b[0m\u001b[1;33m)\u001b[0m\u001b[1;33m)\u001b[0m\u001b[1;33m\u001b[0m\u001b[1;33m\u001b[0m\u001b[0m\n\u001b[1;32m----> 4\u001b[1;33m     \u001b[0mprint\u001b[0m\u001b[1;33m(\u001b[0m\u001b[1;34m\"Predicted summary:\"\u001b[0m\u001b[1;33m,\u001b[0m\u001b[0mdecode_sequence\u001b[0m\u001b[1;33m(\u001b[0m\u001b[0mx_val\u001b[0m\u001b[1;33m[\u001b[0m\u001b[0mi\u001b[0m\u001b[1;33m]\u001b[0m\u001b[1;33m.\u001b[0m\u001b[0mreshape\u001b[0m\u001b[1;33m(\u001b[0m\u001b[1;36m1\u001b[0m\u001b[1;33m,\u001b[0m\u001b[0mmax_len_text\u001b[0m\u001b[1;33m)\u001b[0m\u001b[1;33m)\u001b[0m\u001b[1;33m)\u001b[0m\u001b[1;33m\u001b[0m\u001b[1;33m\u001b[0m\u001b[0m\n\u001b[0m\u001b[0;32m      5\u001b[0m     \u001b[0mprint\u001b[0m\u001b[1;33m(\u001b[0m\u001b[1;34m\"\\n\"\u001b[0m\u001b[1;33m)\u001b[0m\u001b[1;33m\u001b[0m\u001b[1;33m\u001b[0m\u001b[0m\n",
      "\u001b[1;32m<ipython-input-132-2d777288a9e5>\u001b[0m in \u001b[0;36mdecode_sequence\u001b[1;34m(input_seq)\u001b[0m\n\u001b[0;32m     17\u001b[0m         \u001b[1;31m# Sample a token\u001b[0m\u001b[1;33m\u001b[0m\u001b[1;33m\u001b[0m\u001b[1;33m\u001b[0m\u001b[0m\n\u001b[0;32m     18\u001b[0m         \u001b[0msampled_token_index\u001b[0m \u001b[1;33m=\u001b[0m \u001b[0mnp\u001b[0m\u001b[1;33m.\u001b[0m\u001b[0margmax\u001b[0m\u001b[1;33m(\u001b[0m\u001b[0moutput_tokens\u001b[0m\u001b[1;33m[\u001b[0m\u001b[1;36m0\u001b[0m\u001b[1;33m,\u001b[0m \u001b[1;33m-\u001b[0m\u001b[1;36m1\u001b[0m\u001b[1;33m,\u001b[0m \u001b[1;33m:\u001b[0m\u001b[1;33m]\u001b[0m\u001b[1;33m)\u001b[0m\u001b[1;33m\u001b[0m\u001b[1;33m\u001b[0m\u001b[0m\n\u001b[1;32m---> 19\u001b[1;33m         \u001b[0msampled_token\u001b[0m \u001b[1;33m=\u001b[0m \u001b[0mreverse_target_word_index\u001b[0m\u001b[1;33m[\u001b[0m\u001b[0msampled_token_index\u001b[0m\u001b[1;33m]\u001b[0m\u001b[1;33m\u001b[0m\u001b[1;33m\u001b[0m\u001b[0m\n\u001b[0m\u001b[0;32m     20\u001b[0m \u001b[1;33m\u001b[0m\u001b[0m\n\u001b[0;32m     21\u001b[0m         \u001b[1;32mif\u001b[0m\u001b[1;33m(\u001b[0m\u001b[0msampled_token\u001b[0m\u001b[1;33m!=\u001b[0m\u001b[1;34m'end'\u001b[0m\u001b[1;33m)\u001b[0m\u001b[1;33m:\u001b[0m\u001b[1;33m\u001b[0m\u001b[1;33m\u001b[0m\u001b[0m\n",
      "\u001b[1;31mKeyError\u001b[0m: 0"
     ]
    }
   ],
   "source": [
    "for i in range(len(x_val)):\n",
    "    print(\"Review:\",seq2text(x_val[i]))\n",
    "    print(\"Original summary:\",seq2summary(y_val[i]))\n",
    "    print(\"Predicted summary:\",decode_sequence(x_val[i].reshape(1,max_len_text)))\n",
    "    print(\"\\n\")"
   ]
  },
  {
   "cell_type": "code",
   "execution_count": null,
   "metadata": {},
   "outputs": [],
   "source": []
  }
 ],
 "metadata": {
  "kernelspec": {
   "display_name": "Python 3",
   "language": "python",
   "name": "python3"
  },
  "language_info": {
   "codemirror_mode": {
    "name": "ipython",
    "version": 3
   },
   "file_extension": ".py",
   "mimetype": "text/x-python",
   "name": "python",
   "nbconvert_exporter": "python",
   "pygments_lexer": "ipython3",
   "version": "3.7.3"
  }
 },
 "nbformat": 4,
 "nbformat_minor": 2
}
